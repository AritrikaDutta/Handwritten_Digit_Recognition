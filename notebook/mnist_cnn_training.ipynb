import os
import numpy as np
import tensorflow as tf
from PIL import Image
from tensorflow.keras.datasets import mnist
from tensorflow.keras.models import Sequential
from tensorflow.keras.layers import Conv2D, MaxPooling2D, Flatten, Dense, Dropout
from tensorflow.keras.utils import to_categorical

# Load MNIST data
(X_train, y_train), (X_test, y_test) = mnist.load_data()

# Function to load custom images from a folder and extract labels from filenames
def load_custom_images(folder_path):
    images, labels = [], []
    for file in os.listdir(folder_path):
        if file.endswith((".png", ".jpg", ".jpeg")):
            try:
                label = int(file[0])  # Extract label from filename (e.g., "3_sample.png" -> 3)
                img_path = os.path.join(folder_path, file)
                img = Image.open(img_path).convert('L')  # Convert to grayscale
                img = img.resize((28, 28))  # Resize to match MNIST
                img = np.array(img) / 255.0  # Normalize
                img = img.reshape(28, 28, 1)  # Reshape for CNN
                images.append(img)
                labels.append(label)
            except ValueError:
                print(f"Skipping file {file} due to invalid label format.")
    return np.array(images), np.array(labels)

# Load custom images
custom_folder = r"E:\Computer Vision\custom_digits"  # Change this to your folder path
X_custom, y_custom = load_custom_images(custom_folder)

# Combine MNIST with custom images
X_train = np.vstack((X_train.reshape(-1, 28, 28, 1), X_custom))
y_train = np.hstack((y_train, y_custom))

# One-hot encode the labels
y_train = to_categorical(y_train, 10)
y_test = to_categorical(y_test, 10)

# Build CNN model
model = Sequential([
    Conv2D(32, (3, 3), activation='relu', input_shape=(28, 28, 1)),
    MaxPooling2D(pool_size=(2, 2)),
    Conv2D(64, (3, 3), activation='relu'),
    MaxPooling2D(pool_size=(2, 2)),
    Flatten(),
    Dense(128, activation='relu'),
    Dropout(0.5),
    Dense(10, activation='softmax')
])

# Compile model
model.compile(optimizer='adam', loss='categorical_crossentropy', metrics=['accuracy'])

# Train model
model.fit(X_train, y_train, validation_data=(X_test, y_test), epochs=30, batch_size=128)

# Save the model
model.save('app/model/mnist_cnn_model.h5')

# Evaluate model
test_loss, test_acc = model.evaluate(X_test, y_test)
print(f"Test accuracy: {test_acc}")
